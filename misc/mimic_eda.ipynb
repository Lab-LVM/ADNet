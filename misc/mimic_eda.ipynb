{
 "cells": [
  {
   "cell_type": "markdown",
   "id": "a86cd03a",
   "metadata": {},
   "source": [
    "## 1. load required packages"
   ]
  },
  {
   "cell_type": "code",
   "execution_count": 1,
   "id": "0782e488",
   "metadata": {},
   "outputs": [],
   "source": [
    "import json\n",
    "import os\n",
    "import shutil\n",
    "from glob import glob\n",
    "from pathlib import Path\n",
    "import numpy as np\n",
    "import matplotlib.pyplot as plt\n",
    "\n",
    "import PIL.Image\n",
    "import pandas as pd\n",
    "from rich import print\n",
    "from tqdm.notebook import tqdm"
   ]
  },
  {
   "cell_type": "markdown",
   "id": "a8f0b95a",
   "metadata": {},
   "source": [
    "## 2. download test split and show dataset statisitcs"
   ]
  },
  {
   "cell_type": "code",
   "execution_count": 2,
   "id": "3658040e",
   "metadata": {},
   "outputs": [
    {
     "name": "stdout",
     "output_type": "stream",
     "text": [
      "File ‘test.txt’ already there; not retrieving.\r\n"
     ]
    },
    {
     "data": {
      "text/html": [
       "<pre style=\"white-space:pre;overflow-x:auto;line-height:normal;font-family:Menlo,'DejaVu Sans Mono',consolas,'Courier New',monospace\">len of total image: <span style=\"color: #008080; text-decoration-color: #008080; font-weight: bold\">377110</span>\n",
       "</pre>\n"
      ],
      "text/plain": [
       "len of total image: \u001b[1;36m377110\u001b[0m\n"
      ]
     },
     "metadata": {},
     "output_type": "display_data"
    },
    {
     "data": {
      "text/html": [
       "<pre style=\"white-space:pre;overflow-x:auto;line-height:normal;font-family:Menlo,'DejaVu Sans Mono',consolas,'Courier New',monospace\">example image path:\n",
       "</pre>\n"
      ],
      "text/plain": [
       "example image path:\n"
      ]
     },
     "metadata": {},
     "output_type": "display_data"
    },
    {
     "data": {
      "text/html": [
       "<pre style=\"white-space:pre;overflow-x:auto;line-height:normal;font-family:Menlo,'DejaVu Sans Mono',consolas,'Courier New',monospace\"><span style=\"font-weight: bold\">[</span>\n",
       "    <span style=\"color: #008000; text-decoration-color: #008000\">'/home/hankyul/private/cheXpert/data/classification/chest/mimic-cxr/files/p16603653/s5408</span>\n",
       "<span style=\"color: #008000; text-decoration-color: #008000\">6082/f5ff966c-c6ee100c-3383597b-27e91767-9f45cfd9.jpg'</span>,\n",
       "    <span style=\"color: #008000; text-decoration-color: #008000\">'/home/hankyul/private/cheXpert/data/classification/chest/mimic-cxr/files/p16603653/s5408</span>\n",
       "<span style=\"color: #008000; text-decoration-color: #008000\">6082/f9a9714b-2ca35e1d-c32c21ee-d6f5b26f-84213801.jpg'</span>,\n",
       "    <span style=\"color: #008000; text-decoration-color: #008000\">'/home/hankyul/private/cheXpert/data/classification/chest/mimic-cxr/files/p16603653/s5552</span>\n",
       "<span style=\"color: #008000; text-decoration-color: #008000\">2730/76778ab1-0724a699-a36bb0bf-409e904c-5d9b9ed2.jpg'</span>,\n",
       "    <span style=\"color: #008000; text-decoration-color: #008000\">'/home/hankyul/private/cheXpert/data/classification/chest/mimic-cxr/files/p16603653/s5552</span>\n",
       "<span style=\"color: #008000; text-decoration-color: #008000\">2730/ed155878-a4b6213d-5be28c05-c8a5f03c-39929c58.jpg'</span>,\n",
       "    <span style=\"color: #008000; text-decoration-color: #008000\">'/home/hankyul/private/cheXpert/data/classification/chest/mimic-cxr/files/p16603653/s5817</span>\n",
       "<span style=\"color: #008000; text-decoration-color: #008000\">0877/c5bd35a0-65587616-b2f6a2ff-3ce95db7-bec18f4b.jpg'</span>\n",
       "<span style=\"font-weight: bold\">]</span>\n",
       "</pre>\n"
      ],
      "text/plain": [
       "\u001b[1m[\u001b[0m\n",
       "    \u001b[32m'/home/hankyul/private/cheXpert/data/classification/chest/mimic-cxr/files/p16603653/s5408\u001b[0m\n",
       "\u001b[32m6082/f5ff966c-c6ee100c-3383597b-27e91767-9f45cfd9.jpg'\u001b[0m,\n",
       "    \u001b[32m'/home/hankyul/private/cheXpert/data/classification/chest/mimic-cxr/files/p16603653/s5408\u001b[0m\n",
       "\u001b[32m6082/f9a9714b-2ca35e1d-c32c21ee-d6f5b26f-84213801.jpg'\u001b[0m,\n",
       "    \u001b[32m'/home/hankyul/private/cheXpert/data/classification/chest/mimic-cxr/files/p16603653/s5552\u001b[0m\n",
       "\u001b[32m2730/76778ab1-0724a699-a36bb0bf-409e904c-5d9b9ed2.jpg'\u001b[0m,\n",
       "    \u001b[32m'/home/hankyul/private/cheXpert/data/classification/chest/mimic-cxr/files/p16603653/s5552\u001b[0m\n",
       "\u001b[32m2730/ed155878-a4b6213d-5be28c05-c8a5f03c-39929c58.jpg'\u001b[0m,\n",
       "    \u001b[32m'/home/hankyul/private/cheXpert/data/classification/chest/mimic-cxr/files/p16603653/s5817\u001b[0m\n",
       "\u001b[32m0877/c5bd35a0-65587616-b2f6a2ff-3ce95db7-bec18f4b.jpg'\u001b[0m\n",
       "\u001b[1m]\u001b[0m\n"
      ]
     },
     "metadata": {},
     "output_type": "display_data"
    },
    {
     "data": {
      "text/html": [
       "<pre style=\"white-space:pre;overflow-x:auto;line-height:normal;font-family:Menlo,'DejaVu Sans Mono',consolas,'Courier New',monospace\">csv list:\n",
       "</pre>\n"
      ],
      "text/plain": [
       "csv list:\n"
      ]
     },
     "metadata": {},
     "output_type": "display_data"
    },
    {
     "data": {
      "text/html": [
       "<pre style=\"white-space:pre;overflow-x:auto;line-height:normal;font-family:Menlo,'DejaVu Sans Mono',consolas,'Courier New',monospace\"><span style=\"font-weight: bold\">[</span>\n",
       "    <span style=\"color: #008000; text-decoration-color: #008000\">'/home/hankyul/private/cheXpert/data/classification/chest/mimic-cxr/mimic-cxr-2.0.0-metad</span>\n",
       "<span style=\"color: #008000; text-decoration-color: #008000\">ata.csv'</span>,\n",
       "    <span style=\"color: #008000; text-decoration-color: #008000\">'/home/hankyul/private/cheXpert/data/classification/chest/mimic-cxr/mimic-cxr-2.0.0-chexp</span>\n",
       "<span style=\"color: #008000; text-decoration-color: #008000\">ert.csv'</span>,\n",
       "    <span style=\"color: #008000; text-decoration-color: #008000\">'/home/hankyul/private/cheXpert/data/classification/chest/mimic-cxr/mimic-cxr-2.0.0-negbi</span>\n",
       "<span style=\"color: #008000; text-decoration-color: #008000\">o.csv'</span>,\n",
       "    <span style=\"color: #008000; text-decoration-color: #008000\">'/home/hankyul/private/cheXpert/data/classification/chest/mimic-cxr/mimic-cxr-2.0.0-split</span>\n",
       "<span style=\"color: #008000; text-decoration-color: #008000\">.csv'</span>\n",
       "<span style=\"font-weight: bold\">]</span>\n",
       "</pre>\n"
      ],
      "text/plain": [
       "\u001b[1m[\u001b[0m\n",
       "    \u001b[32m'/home/hankyul/private/cheXpert/data/classification/chest/mimic-cxr/mimic-cxr-2.0.0-metad\u001b[0m\n",
       "\u001b[32mata.csv'\u001b[0m,\n",
       "    \u001b[32m'/home/hankyul/private/cheXpert/data/classification/chest/mimic-cxr/mimic-cxr-2.0.0-chexp\u001b[0m\n",
       "\u001b[32mert.csv'\u001b[0m,\n",
       "    \u001b[32m'/home/hankyul/private/cheXpert/data/classification/chest/mimic-cxr/mimic-cxr-2.0.0-negbi\u001b[0m\n",
       "\u001b[32mo.csv'\u001b[0m,\n",
       "    \u001b[32m'/home/hankyul/private/cheXpert/data/classification/chest/mimic-cxr/mimic-cxr-2.0.0-split\u001b[0m\n",
       "\u001b[32m.csv'\u001b[0m\n",
       "\u001b[1m]\u001b[0m\n"
      ]
     },
     "metadata": {},
     "output_type": "display_data"
    },
    {
     "data": {
      "text/html": [
       "<pre style=\"white-space:pre;overflow-x:auto;line-height:normal;font-family:Menlo,'DejaVu Sans Mono',consolas,'Courier New',monospace\">len of test patient id: <span style=\"color: #008080; text-decoration-color: #008080; font-weight: bold\">36421</span>\n",
       "</pre>\n"
      ],
      "text/plain": [
       "len of test patient id: \u001b[1;36m36421\u001b[0m\n"
      ]
     },
     "metadata": {},
     "output_type": "display_data"
    },
    {
     "data": {
      "text/html": [
       "<pre style=\"white-space:pre;overflow-x:auto;line-height:normal;font-family:Menlo,'DejaVu Sans Mono',consolas,'Courier New',monospace\">exmple patient id:\n",
       "</pre>\n"
      ],
      "text/plain": [
       "exmple patient id:\n"
      ]
     },
     "metadata": {},
     "output_type": "display_data"
    },
    {
     "data": {
      "text/html": [
       "<pre style=\"white-space:pre;overflow-x:auto;line-height:normal;font-family:Menlo,'DejaVu Sans Mono',consolas,'Courier New',monospace\"><span style=\"font-weight: bold\">[</span><span style=\"color: #008000; text-decoration-color: #008000\">'10002559'</span>, <span style=\"color: #008000; text-decoration-color: #008000\">'10002559'</span>, <span style=\"color: #008000; text-decoration-color: #008000\">'10002559'</span>, <span style=\"color: #008000; text-decoration-color: #008000\">'10002559'</span>, <span style=\"color: #008000; text-decoration-color: #008000\">'10002559'</span><span style=\"font-weight: bold\">]</span>\n",
       "</pre>\n"
      ],
      "text/plain": [
       "\u001b[1m[\u001b[0m\u001b[32m'10002559'\u001b[0m, \u001b[32m'10002559'\u001b[0m, \u001b[32m'10002559'\u001b[0m, \u001b[32m'10002559'\u001b[0m, \u001b[32m'10002559'\u001b[0m\u001b[1m]\u001b[0m\n"
      ]
     },
     "metadata": {},
     "output_type": "display_data"
    }
   ],
   "source": [
    "# down load test patient split from chexclusion github\n",
    "!wget -nc -O test.txt https://raw.githubusercontent.com/LalehSeyyed/CheXclusion/main/MIMIC/testSet_SubjID.csv\n",
    "\n",
    "save_root = '/home/hankyul/private/cheXpert/data/classification/chest/mimic-cxr/'\n",
    "img_path_list = glob(os.path.join(save_root, 'files', '*', '*', '*.jpg'))\n",
    "csv_path_list = glob(os.path.join(save_root, '*.csv'))\n",
    "csv_list = []\n",
    "\n",
    "for csv_path in csv_path_list:\n",
    "    csv_list.append(pd.read_csv(csv_path))\n",
    "\n",
    "with open('test.txt', 'rt') as f:\n",
    "    test_patient_ids = [x.strip('\\n') for x in f.readlines()]\n",
    "\n",
    "print(f\"len of total image: {len(img_path_list)}\")\n",
    "print(f\"example image path:\")\n",
    "print(img_path_list[:5])\n",
    "print(f\"csv list:\")\n",
    "print(csv_path_list)\n",
    "print(f\"len of test patient id: {len(test_patient_ids)}\")\n",
    "print(f\"exmple patient id:\")\n",
    "print(test_patient_ids[:5])"
   ]
  },
  {
   "cell_type": "markdown",
   "id": "2a0560d2",
   "metadata": {},
   "source": [
    "## 3. select label csv"
   ]
  },
  {
   "cell_type": "code",
   "execution_count": 3,
   "id": "a97e10bc",
   "metadata": {},
   "outputs": [
    {
     "data": {
      "text/html": [
       "<pre style=\"white-space:pre;overflow-x:auto;line-height:normal;font-family:Menlo,'DejaVu Sans Mono',consolas,'Courier New',monospace\">len of label: <span style=\"color: #008080; text-decoration-color: #008080; font-weight: bold\">227827</span>\n",
       "</pre>\n"
      ],
      "text/plain": [
       "len of label: \u001b[1;36m227827\u001b[0m\n"
      ]
     },
     "metadata": {},
     "output_type": "display_data"
    },
    {
     "data": {
      "text/html": [
       "<pre style=\"white-space:pre;overflow-x:auto;line-height:normal;font-family:Menlo,'DejaVu Sans Mono',consolas,'Courier New',monospace\">len of subject: <span style=\"color: #008080; text-decoration-color: #008080; font-weight: bold\">65379</span>\n",
       "</pre>\n"
      ],
      "text/plain": [
       "len of subject: \u001b[1;36m65379\u001b[0m\n"
      ]
     },
     "metadata": {},
     "output_type": "display_data"
    },
    {
     "data": {
      "text/html": [
       "<div>\n",
       "<style scoped>\n",
       "    .dataframe tbody tr th:only-of-type {\n",
       "        vertical-align: middle;\n",
       "    }\n",
       "\n",
       "    .dataframe tbody tr th {\n",
       "        vertical-align: top;\n",
       "    }\n",
       "\n",
       "    .dataframe thead th {\n",
       "        text-align: right;\n",
       "    }\n",
       "</style>\n",
       "<table border=\"1\" class=\"dataframe\">\n",
       "  <thead>\n",
       "    <tr style=\"text-align: right;\">\n",
       "      <th></th>\n",
       "      <th></th>\n",
       "      <th>Atelectasis</th>\n",
       "      <th>Cardiomegaly</th>\n",
       "      <th>Consolidation</th>\n",
       "      <th>Edema</th>\n",
       "      <th>Enlarged Cardiomediastinum</th>\n",
       "      <th>Fracture</th>\n",
       "      <th>Lung Lesion</th>\n",
       "      <th>Lung Opacity</th>\n",
       "      <th>No Finding</th>\n",
       "      <th>Pleural Effusion</th>\n",
       "      <th>Pleural Other</th>\n",
       "      <th>Pneumonia</th>\n",
       "      <th>Pneumothorax</th>\n",
       "      <th>Support Devices</th>\n",
       "    </tr>\n",
       "    <tr>\n",
       "      <th>subject_id</th>\n",
       "      <th>study_id</th>\n",
       "      <th></th>\n",
       "      <th></th>\n",
       "      <th></th>\n",
       "      <th></th>\n",
       "      <th></th>\n",
       "      <th></th>\n",
       "      <th></th>\n",
       "      <th></th>\n",
       "      <th></th>\n",
       "      <th></th>\n",
       "      <th></th>\n",
       "      <th></th>\n",
       "      <th></th>\n",
       "      <th></th>\n",
       "    </tr>\n",
       "  </thead>\n",
       "  <tbody>\n",
       "    <tr>\n",
       "      <th rowspan=\"4\" valign=\"top\">10000032</th>\n",
       "      <th>50414267</th>\n",
       "      <td>0.0</td>\n",
       "      <td>0.0</td>\n",
       "      <td>0.0</td>\n",
       "      <td>0.0</td>\n",
       "      <td>0.0</td>\n",
       "      <td>0.0</td>\n",
       "      <td>0.0</td>\n",
       "      <td>0.0</td>\n",
       "      <td>1.0</td>\n",
       "      <td>0.0</td>\n",
       "      <td>0.0</td>\n",
       "      <td>0.0</td>\n",
       "      <td>0.0</td>\n",
       "      <td>0.0</td>\n",
       "    </tr>\n",
       "    <tr>\n",
       "      <th>53189527</th>\n",
       "      <td>0.0</td>\n",
       "      <td>0.0</td>\n",
       "      <td>0.0</td>\n",
       "      <td>0.0</td>\n",
       "      <td>0.0</td>\n",
       "      <td>0.0</td>\n",
       "      <td>0.0</td>\n",
       "      <td>0.0</td>\n",
       "      <td>1.0</td>\n",
       "      <td>0.0</td>\n",
       "      <td>0.0</td>\n",
       "      <td>0.0</td>\n",
       "      <td>0.0</td>\n",
       "      <td>0.0</td>\n",
       "    </tr>\n",
       "    <tr>\n",
       "      <th>53911762</th>\n",
       "      <td>0.0</td>\n",
       "      <td>0.0</td>\n",
       "      <td>0.0</td>\n",
       "      <td>0.0</td>\n",
       "      <td>0.0</td>\n",
       "      <td>0.0</td>\n",
       "      <td>0.0</td>\n",
       "      <td>0.0</td>\n",
       "      <td>1.0</td>\n",
       "      <td>0.0</td>\n",
       "      <td>0.0</td>\n",
       "      <td>0.0</td>\n",
       "      <td>0.0</td>\n",
       "      <td>0.0</td>\n",
       "    </tr>\n",
       "    <tr>\n",
       "      <th>56699142</th>\n",
       "      <td>0.0</td>\n",
       "      <td>0.0</td>\n",
       "      <td>0.0</td>\n",
       "      <td>0.0</td>\n",
       "      <td>0.0</td>\n",
       "      <td>0.0</td>\n",
       "      <td>0.0</td>\n",
       "      <td>0.0</td>\n",
       "      <td>1.0</td>\n",
       "      <td>0.0</td>\n",
       "      <td>0.0</td>\n",
       "      <td>0.0</td>\n",
       "      <td>0.0</td>\n",
       "      <td>0.0</td>\n",
       "    </tr>\n",
       "    <tr>\n",
       "      <th>10000764</th>\n",
       "      <th>57375967</th>\n",
       "      <td>0.0</td>\n",
       "      <td>0.0</td>\n",
       "      <td>1.0</td>\n",
       "      <td>0.0</td>\n",
       "      <td>0.0</td>\n",
       "      <td>0.0</td>\n",
       "      <td>0.0</td>\n",
       "      <td>0.0</td>\n",
       "      <td>0.0</td>\n",
       "      <td>0.0</td>\n",
       "      <td>0.0</td>\n",
       "      <td>0.0</td>\n",
       "      <td>0.0</td>\n",
       "      <td>0.0</td>\n",
       "    </tr>\n",
       "  </tbody>\n",
       "</table>\n",
       "</div>"
      ],
      "text/plain": [
       "                     Atelectasis  Cardiomegaly  Consolidation  Edema  \\\n",
       "subject_id study_id                                                    \n",
       "10000032   50414267          0.0           0.0            0.0    0.0   \n",
       "           53189527          0.0           0.0            0.0    0.0   \n",
       "           53911762          0.0           0.0            0.0    0.0   \n",
       "           56699142          0.0           0.0            0.0    0.0   \n",
       "10000764   57375967          0.0           0.0            1.0    0.0   \n",
       "\n",
       "                     Enlarged Cardiomediastinum  Fracture  Lung Lesion  \\\n",
       "subject_id study_id                                                      \n",
       "10000032   50414267                         0.0       0.0          0.0   \n",
       "           53189527                         0.0       0.0          0.0   \n",
       "           53911762                         0.0       0.0          0.0   \n",
       "           56699142                         0.0       0.0          0.0   \n",
       "10000764   57375967                         0.0       0.0          0.0   \n",
       "\n",
       "                     Lung Opacity  No Finding  Pleural Effusion  \\\n",
       "subject_id study_id                                               \n",
       "10000032   50414267           0.0         1.0               0.0   \n",
       "           53189527           0.0         1.0               0.0   \n",
       "           53911762           0.0         1.0               0.0   \n",
       "           56699142           0.0         1.0               0.0   \n",
       "10000764   57375967           0.0         0.0               0.0   \n",
       "\n",
       "                     Pleural Other  Pneumonia  Pneumothorax  Support Devices  \n",
       "subject_id study_id                                                           \n",
       "10000032   50414267            0.0        0.0           0.0              0.0  \n",
       "           53189527            0.0        0.0           0.0              0.0  \n",
       "           53911762            0.0        0.0           0.0              0.0  \n",
       "           56699142            0.0        0.0           0.0              0.0  \n",
       "10000764   57375967            0.0        0.0           0.0              0.0  "
      ]
     },
     "execution_count": 3,
     "metadata": {},
     "output_type": "execute_result"
    }
   ],
   "source": [
    "label_csv = csv_list[2]\n",
    "\n",
    "print(f'len of label: {len(label_csv)}')\n",
    "print(f\"len of subject: {len(label_csv['subject_id'].unique())}\")\n",
    "label_csv.replace(-1, 0, inplace=True)\n",
    "label_csv.fillna(0, inplace=True)\n",
    "label_csv.set_index(['subject_id', 'study_id'], inplace=True)\n",
    "label_csv.head()"
   ]
  },
  {
   "cell_type": "markdown",
   "id": "f12307ee",
   "metadata": {},
   "source": [
    "## 4. split dataset into train/test"
   ]
  },
  {
   "cell_type": "code",
   "execution_count": null,
   "id": "9fbed94c",
   "metadata": {},
   "outputs": [],
   "source": [
    "train_x = []\n",
    "train_y = []\n",
    "test_x = []\n",
    "test_y = []\n",
    "prog_bar = tqdm(img_path_list)\n",
    "i = 0\n",
    "for img_path in prog_bar:\n",
    "    img_path_split = img_path.split('/')\n",
    "    img_path_sub = '/'.join(img_path_split[-3:])\n",
    "    sub_id, study_id = [x[1:] for x in img_path_split[-3:-1]]\n",
    "    try:\n",
    "        label = label_csv.loc[(int(sub_id), int(study_id))].tolist()\n",
    "    except:\n",
    "        print(f\"{img_path} does not have the label\")\n",
    "        continue\n",
    "    \n",
    "    if sub_id in test_patient_ids:\n",
    "        test_x.append(img_path_sub)\n",
    "        test_y.append(label)\n",
    "    else:\n",
    "        train_x.append(img_path_sub)\n",
    "        train_y.append(label)\n",
    "        \n",
    "    if i % 50 == 0:\n",
    "        prog_bar.set_description(f\"train:{len(train_x)} | test:{len(test_x)}\")\n",
    "    i+= 1\n",
    "print(f'len of train split: {len(train_x)}')\n",
    "print(f'len of test split: {len(test_x)}')"
   ]
  },
  {
   "cell_type": "markdown",
   "id": "f9738783",
   "metadata": {},
   "source": [
    "## 5. show label distribution per train / test split "
   ]
  },
  {
   "cell_type": "code",
   "execution_count": 31,
   "id": "8cafb65a",
   "metadata": {},
   "outputs": [
    {
     "data": {
      "image/png": "[encoded data removed]",
      "text/plain": [
       "<Figure size 720x360 with 2 Axes>"
      ]
     },
     "metadata": {
      "needs_background": "light"
     },
     "output_type": "display_data"
    }
   ],
   "source": [
    "plt.figure(figsize=(10, 5))\n",
    "plt.subplot(1, 2, 1)\n",
    "plt.bar(list(range(14)), np.array(train_y).sum(axis=0))\n",
    "plt.gca().set_title('train label distribution')\n",
    "plt.subplot(1, 2, 2)\n",
    "plt.bar(list(range(14)), np.array(test_y).sum(axis=0))\n",
    "plt.gca().set_title('test label distribution')\n",
    "plt.show()"
   ]
  },
  {
   "cell_type": "markdown",
   "id": "7b1d19fe",
   "metadata": {},
   "source": [
    "## 6. save label per each split"
   ]
  },
  {
   "cell_type": "code",
   "execution_count": null,
   "id": "e9c37cc8",
   "metadata": {},
   "outputs": [],
   "source": [
    "with open(os.path.join(save_root, 'train_x.json'), 'wt') as f:\n",
    "    json.dump(train_x, f, ensure_ascii=False, indent=4)\n",
    "\n",
    "with open(os.path.join(save_root, 'train_y.json'), 'wt') as f:\n",
    "    json.dump(train_y, f, ensure_ascii=False, indent=4)\n",
    "    \n",
    "with open(os.path.join(save_root, 'test_x.json'), 'wt') as f:\n",
    "    json.dump(test_x, f, ensure_ascii=False, indent=4)\n",
    "    \n",
    "with open(os.path.join(save_root, 'test_y.json'), 'wt') as f:\n",
    "    json.dump(test_y, f, ensure_ascii=False, indent=4)"
   ]
  }
 ],
 "metadata": {
  "kernelspec": {
   "display_name": "Python 3 (ipykernel)",
   "language": "python",
   "name": "python3"
  },
  "language_info": {
   "codemirror_mode": {
    "name": "ipython",
    "version": 3
   },
   "file_extension": ".py",
   "mimetype": "text/x-python",
   "name": "python",
   "nbconvert_exporter": "python",
   "pygments_lexer": "ipython3",
   "version": "3.8.12"
  }
 },
 "nbformat": 4,
 "nbformat_minor": 5
}
